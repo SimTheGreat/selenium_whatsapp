{
 "cells": [
  {
   "cell_type": "code",
   "execution_count": 1,
   "id": "1e3f121f",
   "metadata": {},
   "outputs": [],
   "source": [
    "import time\n",
    "from selenium.webdriver.support import expected_conditions as EC\n",
    "from selenium.webdriver.common.by import By\n",
    "from selenium import webdriver\n",
    "from selenium.webdriver.common.keys import Keys\n"
   ]
  },
  {
   "cell_type": "code",
   "execution_count": 4,
   "id": "b4994eb4",
   "metadata": {},
   "outputs": [
    {
     "name": "stdout",
     "output_type": "stream",
     "text": [
      "enter contact as saved on whatsappDad\n",
      "enter text:)\n",
      "Scan QR Code, And then Enter\n",
      "\n",
      "Logged In\n"
     ]
    }
   ],
   "source": [
    "driver = webdriver.Chrome(executable_path=\"/Users/sim.singh/Desktop/coding/whatsapp/chromedriver\")\n",
    "contact = input('enter contact as saved on whatsapp')\n",
    "text = input('enter text')\n",
    "\n",
    "driver.get(\"https://web.whatsapp.com\")\n",
    "print(\"Scan QR Code, And then Enter\")\n",
    "input()\n",
    "print(\"Logged In\")\n",
    "\n",
    "inp_xpath_search = \"/html/body/div/div[1]/div[1]/div[3]/div/div[1]/div/label/div/div[2]\"\n",
    "input_box = driver.find_element_by_xpath(inp_xpath_search)\n",
    "input_box.send_keys(contact)\n",
    "\n",
    "\n",
    "\n",
    "selected_contact = driver.find_element_by_xpath(\"//span[@title='\"+contact+\"']\")\n",
    "time.sleep(2)\n",
    "selected_contact.click()\n",
    "time.sleep(2)\n",
    "\n",
    "inp_xpath = \"/html/body/div/div[1]/div[1]/div[4]/div[1]/footer/div[1]/div[2]/div/div[2]\"\n",
    "input_box = driver.find_element_by_xpath(inp_xpath)\n",
    "time.sleep(2)\n",
    "\n",
    "input_box.send_keys(text + Keys.ENTER)\n",
    "time.sleep(2)\n"
   ]
  },
  {
   "cell_type": "code",
   "execution_count": null,
   "id": "5aba6e81",
   "metadata": {},
   "outputs": [],
   "source": []
  }
 ],
 "metadata": {
  "kernelspec": {
   "display_name": "Python 3",
   "language": "python",
   "name": "python3"
  },
  "language_info": {
   "codemirror_mode": {
    "name": "ipython",
    "version": 3
   },
   "file_extension": ".py",
   "mimetype": "text/x-python",
   "name": "python",
   "nbconvert_exporter": "python",
   "pygments_lexer": "ipython3",
   "version": "3.8.8"
  }
 },
 "nbformat": 4,
 "nbformat_minor": 5
}
